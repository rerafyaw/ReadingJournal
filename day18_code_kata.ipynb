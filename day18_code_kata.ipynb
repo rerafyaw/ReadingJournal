{
 "cells": [
  {
   "cell_type": "markdown",
   "metadata": {},
   "source": [
    "# Day 18 Kata: Data Munging\n",
    "\n",
    "A [code katas](http://codekata.com) is a short exercise for practicing particular Python skills.\n",
    "\n",
    "This exercise is adapted from [Kata04](http://codekata.com/kata/kata04-data-munging/), by Dave Thomas.\n",
    "\n",
    "**Due: Monday, November 7 at 12 noon**"
   ]
  },
  {
   "cell_type": "markdown",
   "metadata": {},
   "source": [
    "### Part One: Weather Data\n",
    "\n",
    "In `./data/weather.dat` you’ll find daily weather data for Morristown, NJ for June 2002.\n",
    "Write a function that outputs the day number (column one) with the smallest temperature spread (the maximum temperature is the second column, the minimum the third column)."
   ]
  },
  {
   "cell_type": "code",
   "execution_count": 13,
   "metadata": {
    "collapsed": false
   },
   "outputs": [
    {
     "name": "stdout",
     "output_type": "stream",
     "text": [
      "Day 14\n"
     ]
    }
   ],
   "source": [
    "import string\n",
    "\n",
    "def find_day_with_smallest_spread():\n",
    "    f = open('./data/weather.dat').readlines()\n",
    "    smallestspread = 9999\n",
    "    \n",
    "    for line in f:\n",
    "        # filter out all lines with alphabets\n",
    "        if line.strip().startswith(tuple(string.digits)):\n",
    "            l = line.split()[:3]\n",
    "            # removes weird things like asterisks before enrolling\n",
    "            maxval = l[1].strip(string.punctuation)\n",
    "            minval = l[2].strip(string.punctuation)\n",
    "            # converts str to int for finding spread\n",
    "            diff = int(maxval) - int(minval)\n",
    "            # smallest spread displaces other entries\n",
    "            if diff < smallestspread:\n",
    "                smallestspread = diff\n",
    "                day = l[0]\n",
    "    print \"Day %s\" % (day)\n",
    "            \n",
    "find_day_with_smallest_spread()"
   ]
  },
  {
   "cell_type": "markdown",
   "metadata": {},
   "source": [
    "### Part Two: Soccer League Table\n",
    "The file `./data/football.dat` contains the results from the English Premier League for 2001/2.\n",
    "The columns labeled ‘F’ and ‘A’ contain the total number of goals scored for and against each team in that season (so Arsenal scored 79 goals against opponents, and had 36 goals scored against them).\n",
    "Write a function to print the name of the team with the smallest difference in ‘for’ and ‘against’ goals."
   ]
  },
  {
   "cell_type": "code",
   "execution_count": 38,
   "metadata": {
    "collapsed": false
   },
   "outputs": [
    {
     "name": "stdout",
     "output_type": "stream",
     "text": [
      "['Aston_Villa']\n"
     ]
    }
   ],
   "source": [
    "import string\n",
    "\n",
    "def find_team_with_smallest_difference():\n",
    "    f = open('./data/football.dat').readlines()\n",
    "    smallestdiff = 99\n",
    "    \n",
    "    for line in f:\n",
    "        if line.strip().startswith(tuple(string.digits)):\n",
    "            # removes the - punctuation in the dataset\n",
    "            scores = line.split()[6:9:2]\n",
    "            # enrolls teams into a dataset\n",
    "            teamid = line.split()[1:2]\n",
    "            forscore, againstscore = int(scores[0]), int(scores[1])\n",
    "            diff = abs(forscore - againstscore)\n",
    "            if diff < smallestdiff:\n",
    "                smallestdiff = diff\n",
    "                smallestteam = teamid\n",
    "    return smallestteam \n",
    "\n",
    "\n",
    "print find_team_with_smallest_difference()"
   ]
  },
  {
   "cell_type": "markdown",
   "metadata": {},
   "source": [
    "### Part Three: DRY Fusion\n",
    "“In software engineering, **d**on't **r**epeat **y**ourself (DRY) is a principle of software development, aimed at reducing repetition of information of all kinds” – [Wikipedia](https://en.wikipedia.org/wiki/Don%27t_repeat_yourself).\n",
    "\n",
    "(Compare this to [copy and paste programming](https://en.wikipedia.org/wiki/Copy_and_paste_programming).)\n",
    "\n",
    "Take the two functions written previously and [factor out](https://en.wikipedia.org/wiki/Code_refactoring) as much common code as possible, leaving you with two smaller functions that each call a third function."
   ]
  },
  {
   "cell_type": "code",
   "execution_count": 49,
   "metadata": {
    "collapsed": false
   },
   "outputs": [
    {
     "name": "stdout",
     "output_type": "stream",
     "text": [
      "Day 14\n",
      "Team Aston_Villa\n"
     ]
    }
   ],
   "source": [
    "import string\n",
    "\n",
    "def get_id(filename):\n",
    "    data = open('./data/%s.dat' % filename, 'r').readlines()\n",
    "    spread = 1000000\n",
    "    id_val = None\n",
    " \n",
    "    for line in data:\n",
    "        if line.strip().startswith(tuple(string.digits)):\n",
    "            l = line.split()\n",
    "            if filename == \"weather\":\n",
    "                identifier, upperval, lowerval = l[0], int(l[1].strip(string.punctuation)), int(l[2].strip(string.punctuation))\n",
    "            elif filename == \"football\":\n",
    "                # using same variable names as only 1 can execute at a time\n",
    "                identifier, upperval, lowerval = l[1], int(l[6]), int(l[8])\n",
    "            diff = abs(upperval - lowerval)\n",
    "            if diff < spread:\n",
    "                spread = diff\n",
    "                id_val = identifier\n",
    "    return id_val\n",
    "\n",
    "def find_weather():\n",
    "    print \"Day %s\" % get_id('weather')\n",
    "    \n",
    "def find_football():\n",
    "    print \"Team %s\" % get_id('football')\n",
    "    \n",
    "find_weather()\n",
    "find_football()"
   ]
  },
  {
   "cell_type": "markdown",
   "metadata": {},
   "source": [
    "## Quick poll\n",
    "\n",
    "About how long did you spend working on this Reading Journal?"
   ]
  },
  {
   "cell_type": "markdown",
   "metadata": {},
   "source": [
    "a really long time\n"
   ]
  },
  {
   "cell_type": "markdown",
   "metadata": {},
   "source": [
    "## Reading Journal feedback\n",
    "\n",
    "Have any comments on this Reading Journal? Feel free to leave them below and we'll read them when you submit your journal entry. This could include suggestions to improve the exercises, topics you'd like to see covered in class next time, or other feedback.\n",
    "If you have Python questions or run into problems while completing the reading, you should post them to Piazza instead so you can get a quick response before your journal is submitted."
   ]
  },
  {
   "cell_type": "markdown",
   "metadata": {},
   "source": [
    "this kata is challenging"
   ]
  },
  {
   "cell_type": "code",
   "execution_count": null,
   "metadata": {
    "collapsed": true
   },
   "outputs": [],
   "source": []
  }
 ],
 "metadata": {
  "anaconda-cloud": {},
  "kernelspec": {
   "display_name": "Python 2",
   "language": "python",
   "name": "python2"
  },
  "language_info": {
   "codemirror_mode": {
    "name": "ipython",
    "version": 2
   },
   "file_extension": ".py",
   "mimetype": "text/x-python",
   "name": "python",
   "nbconvert_exporter": "python",
   "pygments_lexer": "ipython2",
   "version": "2.7.6"
  }
 },
 "nbformat": 4,
 "nbformat_minor": 0
}
