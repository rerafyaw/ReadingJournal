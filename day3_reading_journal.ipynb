{
 "cells": [
  {
   "cell_type": "markdown",
   "metadata": {},
   "source": [
    "# Day 3 Reading Journal\n",
    "\n",
    "This journal includes several required exercises, but it is meant to encourage active reading more generally.  You should use the journal to take detailed notes, catalog questions, and explore the content from Think Python deeply.\n",
    "\n",
    "Reading: Think Python Chapter 8, 10.1-10.6\n",
    "\n",
    "**Due: Thursday, September 15 at 12 noon**\n",
    "\n"
   ]
  },
  {
   "cell_type": "markdown",
   "metadata": {},
   "source": [
    "## [Chapter 8](http://www.greenteapress.com/thinkpython/html/thinkpython009.html)\n",
    "\n",
    "Note: the exercise numbers below match up with the reading for ease of cross referencing."
   ]
  },
  {
   "cell_type": "markdown",
   "metadata": {},
   "source": [
    "### Exercise 1  \n",
    "\n",
    "Write a function that takes a string as an argument and displays the letters backward, one per line."
   ]
  },
  {
   "cell_type": "code",
   "execution_count": 10,
   "metadata": {
    "collapsed": false
   },
   "outputs": [
    {
     "name": "stdout",
     "output_type": "stream",
     "text": [
      "Give us a string: whats up\n",
      "p\n",
      "u\n",
      " \n",
      "s\n",
      "t\n",
      "a\n",
      "h\n",
      "w\n"
     ]
    }
   ],
   "source": [
    "arg = raw_input(\"Give us a string: \") \n",
    "#regens the input as a string verbatim\n",
    "\n",
    "for i in range(len(arg)-1, -1,-1): # ends at >(-1)\n",
    "    print arg[i]"
   ]
  },
  {
   "cell_type": "markdown",
   "metadata": {},
   "source": [
    "**Challenge (optional):** Write a function that translates words into [Pig Latin](https://en.wikipedia.org/wiki/Pig_Latin). \n",
    "\n",
    "**Additional challenge**: Write a function that translates back into English."
   ]
  },
  {
   "cell_type": "code",
   "execution_count": null,
   "metadata": {
    "collapsed": true
   },
   "outputs": [],
   "source": [
    "def pig_latin(word):\n",
    "    \"\"\"\n",
    "    Return given 'word' translated into Pig Latin\n",
    "    \n",
    "    >>> pig_latin(\"software\")\n",
    "    'oftwaresay'\n",
    "    \"\"\"\n",
    "    \n",
    "    pass #TODO: Implement me\n",
    "\n",
    "# If you'd like to actually run the doctests here, you can uncomment the lines below.\n",
    "# We use this slightly more complex method to test only the pig_latin function, without running tests on any other functions that may be in this notebook.\n",
    "#import doctest\n",
    "#doctest.run_docstring_examples(pig_latin, globals())"
   ]
  },
  {
   "cell_type": "markdown",
   "metadata": {},
   "source": [
    "### Exercise 5\n",
    "Encapsulate the character counting code in a fruitful function named `count` that accepts the string and the letter as arguments and returns the count."
   ]
  },
  {
   "cell_type": "code",
   "execution_count": 5,
   "metadata": {
    "collapsed": false
   },
   "outputs": [
    {
     "name": "stdout",
     "output_type": "stream",
     "text": [
      "Provide a word, followed by a single letter:superfragilicious i\n",
      "3\n"
     ]
    }
   ],
   "source": [
    "import string\n",
    "\n",
    "\n",
    "def count(word,trigger):\n",
    "    counter = 0\n",
    "    for letter in word:\n",
    "        if letter == trigger:\n",
    "            counter += 1\n",
    "    print counter\n",
    "\n",
    "#takes two inputs in a single argument,\n",
    "#and enforces single character only entry (must be a word)\n",
    "while True:\n",
    "    word, trigger = raw_input(\"Provide a word, followed by a single letter:\").split()\n",
    "    if len(trigger) == 1:\n",
    "        if trigger in string.letters:\n",
    "            break\n",
    "        print 'Please enter only letters'\n",
    "    else:\n",
    "        print 'Please enter only one character'\n",
    "    \n",
    "\n",
    "count(word,trigger)"
   ]
  },
  {
   "cell_type": "markdown",
   "metadata": {},
   "source": [
    "### Exercise 8\n",
    "Skim the documentation of the Python [string methods](http://docs.python.org/2/library/stdtypes.html#string-methods). Experiment with some of them to make sure you understand how they work. strip, replace, and upper/lower are particularly useful."
   ]
  },
  {
   "cell_type": "code",
   "execution_count": 10,
   "metadata": {
    "collapsed": false
   },
   "outputs": [
    {
     "name": "stdout",
     "output_type": "stream",
     "text": [
      "spacious   a\n",
      "BANANA\n",
      "banana\n"
     ]
    }
   ],
   "source": [
    "print '   spacious   a'.lstrip() # strip\n",
    "\n",
    "word = 'banana' \n",
    "new_word = word.upper() #upper bound\n",
    "new_new_word = word.lower() #lower bound\n",
    "print new_word\n",
    "print new_new_word\n",
    "\n"
   ]
  },
  {
   "cell_type": "markdown",
   "metadata": {},
   "source": [
    "### Exercise 11  \n",
    "\n",
    "The following functions are all intended to check whether a string contains any lowercase letters, but at least some of them are wrong. For each function, describe what the function actually does (assuming that the parameter is a string)."
   ]
  },
  {
   "cell_type": "code",
   "execution_count": 15,
   "metadata": {
    "collapsed": false
   },
   "outputs": [
    {
     "name": "stdout",
     "output_type": "stream",
     "text": [
      "True\n",
      "True\n",
      "False\n"
     ]
    }
   ],
   "source": [
    "def any_lowercase1(s):\n",
    "    for c in s:\n",
    "        if c.islower():\n",
    "            return True\n",
    "        else:\n",
    "            return False\n",
    "        \n",
    "print any_lowercase1(\"hehehe\")\n",
    "print any_lowercase1(\"heHeheh\")\n",
    "print any_lowercase1(\"Hehe\")\n",
    "\n",
    "# This function only looks at the first character of each string input\n",
    "# Only the first character results in a true/false return based on its case"
   ]
  },
  {
   "cell_type": "markdown",
   "metadata": {},
   "source": [
    " "
   ]
  },
  {
   "cell_type": "code",
   "execution_count": 19,
   "metadata": {
    "collapsed": false
   },
   "outputs": [
    {
     "name": "stdout",
     "output_type": "stream",
     "text": [
      "True\n",
      "True\n",
      "True\n",
      "True\n"
     ]
    }
   ],
   "source": [
    "def any_lowercase2(s):\n",
    "    for c in s:\n",
    "        if 'c'.islower():\n",
    "            return 'True'\n",
    "        else:\n",
    "            return 'False'\n",
    "\n",
    "print any_lowercase2(\"hehehe\")\n",
    "print any_lowercase2(\"heHeheh\")\n",
    "print any_lowercase2(\"Hehe\")\n",
    "print any_lowercase2(\"hehE\")\n",
    "\n",
    "#This function entirely forgoes the input, and only looks at 'c'\n",
    "#Since 'c' is always lower-bound, its conditions are always fulfilled\n",
    "#The return statement also passes a string back, instead of a boolean\n"
   ]
  },
  {
   "cell_type": "markdown",
   "metadata": {},
   "source": [
    " "
   ]
  },
  {
   "cell_type": "code",
   "execution_count": 22,
   "metadata": {
    "collapsed": false
   },
   "outputs": [
    {
     "name": "stdout",
     "output_type": "stream",
     "text": [
      "True\n",
      "True\n",
      "True\n",
      "False\n"
     ]
    }
   ],
   "source": [
    "def any_lowercase3(s):\n",
    "    for c in s:\n",
    "        flag = c.islower()\n",
    "    return flag\n",
    "\n",
    "print any_lowercase3(\"hehehe\")\n",
    "print any_lowercase3(\"heHeheh\")\n",
    "print any_lowercase3(\"Hehe\")\n",
    "print any_lowercase3(\"HehE\")\n",
    "\n",
    "#This function only concerns itself with the final character in any string\n",
    "#Regardless if any other character in the string was false,\n",
    "#The variable flag is only able to track a single character at a time,\n",
    "#hence its runtime usually terminates with only the final characte involved.\n"
   ]
  },
  {
   "cell_type": "markdown",
   "metadata": {},
   "source": [
    " "
   ]
  },
  {
   "cell_type": "code",
   "execution_count": 33,
   "metadata": {
    "collapsed": false
   },
   "outputs": [
    {
     "name": "stdout",
     "output_type": "stream",
     "text": [
      "True\n",
      "True\n",
      "True\n",
      "True\n",
      "False\n"
     ]
    }
   ],
   "source": [
    "def any_lowercase4(s):\n",
    "    flag = False\n",
    "    for c in s:\n",
    "        flag = flag or c.islower()\n",
    "    return flag\n",
    "\n",
    "print any_lowercase4(\"hehehe\")\n",
    "print any_lowercase4(\"heHeheh\")\n",
    "print any_lowercase4(\"Hehe\")\n",
    "print any_lowercase4(\"hehE\")\n",
    "print any_lowercase4(\"HEHE\")\n",
    "\n",
    "#This function creates a permanant flag - as long as there is a single\n",
    "#character that is of the upper case within an input string,\n",
    "#the flag stays binded to a true state.\n",
    "#The only scenario it is not triggered is when all characters are of the upper case.\n",
    "#This basically is the opposite function (everything isupper()) of islower()\n"
   ]
  },
  {
   "cell_type": "markdown",
   "metadata": {},
   "source": [
    " "
   ]
  },
  {
   "cell_type": "code",
   "execution_count": 34,
   "metadata": {
    "collapsed": false
   },
   "outputs": [
    {
     "name": "stdout",
     "output_type": "stream",
     "text": [
      "True\n",
      "False\n",
      "False\n",
      "False\n",
      "False\n"
     ]
    }
   ],
   "source": [
    "def any_lowercase5(s):\n",
    "    for c in s:\n",
    "        if not c.islower():\n",
    "            return False\n",
    "    return True\n",
    "\n",
    "print any_lowercase5(\"hehehe\")\n",
    "print any_lowercase5(\"heHeheh\")\n",
    "print any_lowercase5(\"Hehe\")\n",
    "print any_lowercase5(\"hehE\")\n",
    "print any_lowercase5(\"HEHE\")\n",
    "\n",
    "# This function is the only true implementation without errors."
   ]
  },
  {
   "cell_type": "markdown",
   "metadata": {},
   "source": [
    " "
   ]
  },
  {
   "cell_type": "markdown",
   "metadata": {},
   "source": [
    "## [Chapter 10.1 - 10.6](http://www.greenteapress.com/thinkpython/html/thinkpython011.html)\n",
    "\n",
    "You may want to review [state diagrams in Chapter 2](http://www.greenteapress.com/thinkpython/html/thinkpython003.html#toc13).\n",
    "\n"
   ]
  },
  {
   "cell_type": "markdown",
   "metadata": {},
   "source": [
    "**Quick check:** What type of items can be placed in a list?"
   ]
  },
  {
   "cell_type": "markdown",
   "metadata": {},
   "source": [
    "Any form of value, integer, character(multiple characters)"
   ]
  },
  {
   "cell_type": "markdown",
   "metadata": {},
   "source": [
    "**Quick check:** Give at least one similarity and one difference between lists and strings."
   ]
  },
  {
   "cell_type": "markdown",
   "metadata": {},
   "source": [
    "__Difference__:\n",
    "Strings are immutable - it cannot be rewritten into directly. However, you may use concatenating operations to recreate a new string from the old.\n",
    "\n",
    "Unlike strings, lists are mutable. It allows assignment of individual elements of the list through a simple assignment operation (involving the highlighted index[] of the list)\n",
    "\n",
    "__Similarity__:\n",
    "Both are able to store characters"
   ]
  },
  {
   "cell_type": "markdown",
   "metadata": {},
   "source": [
    "### Exercise\n",
    "\n",
    "Write a function `average` that takes a list of numbers and returns their arithmetic mean."
   ]
  },
  {
   "cell_type": "code",
   "execution_count": 51,
   "metadata": {
    "collapsed": false
   },
   "outputs": [
    {
     "name": "stdout",
     "output_type": "stream",
     "text": [
      "Enter number(s), separated by comma: 1,4,5\n",
      "3.33333333333\n"
     ]
    }
   ],
   "source": [
    "def average(nums):\n",
    "    averageno = 0\n",
    "    sum = 0    \n",
    "    for n in nums:\n",
    "        sum = sum + n\n",
    "    averageno = sum / len(nums)\n",
    "    print averageno\n",
    "\n",
    "\n",
    "def inputnumber():\n",
    "    num = raw_input('Enter number(s), separated by comma: ').split(',')\n",
    "    return [float(n) for n in num]\n",
    "\n",
    "nums = inputnumber()\n",
    "average(nums)"
   ]
  },
  {
   "cell_type": "markdown",
   "metadata": {},
   "source": [
    "### Exercise\n",
    "You own a restaurant, and you need to keep up with the latest food fads or risk losing your fickle customers. You decide to write a Python function that adds the hot new ingredient _du jour_ to each of your regular menu items and returns the trendy new menu."
   ]
  },
  {
   "cell_type": "code",
   "execution_count": 64,
   "metadata": {
    "collapsed": false
   },
   "outputs": [
    {
     "name": "stdout",
     "output_type": "stream",
     "text": [
      "['burger with kale', 'salad with kale', 'ice cream with kale']\n"
     ]
    }
   ],
   "source": [
    "def add_ingredient(menu, ingredient):\n",
    "    \"\"\"\n",
    "    Given a list of string 'menu' items and a trendy 'ingredient' string of the day,\n",
    "    return a new menu list of strings with the ingredient added to each.\n",
    "    \n",
    "    >>> add_ingredient([\"burger\", \"salad\", \"ice cream\"], \"kale\")\n",
    "    ['burger with kale', 'salad with kale', 'ice cream with kale']\n",
    "    \n",
    "    \"\"\"\n",
    "    newmenu = [(menu + ' with ' + ingredient) for menu in menu]\n",
    "    return newmenu\n",
    "    pass    # TODO: Implement me\n",
    "\n",
    "\n",
    "new_menu = add_ingredient([\"burger\", \"salad\", \"ice cream\"], \"kale\")\n",
    "print new_menu\n",
    "# Running doctests in jupyter notebook:\n",
    "# If you'd like to actually run the doctests here, you can uncomment the lines below.\n",
    "# We use this slightly more complex method to test only the add_ingredient function,\n",
    "# without running tests on any other functions that may be in this notebook.\n",
    "\n",
    "import doctest\n",
    "doctest.run_docstring_examples(add_ingredient, globals())"
   ]
  },
  {
   "cell_type": "markdown",
   "metadata": {},
   "source": [
    "# Quick poll\n",
    "About how long did you spend working on this Reading Journal?"
   ]
  },
  {
   "cell_type": "code",
   "execution_count": null,
   "metadata": {
    "collapsed": true
   },
   "outputs": [],
   "source": [
    "#3 hours"
   ]
  },
  {
   "cell_type": "markdown",
   "metadata": {},
   "source": [
    "## Reading Journal feedback\n",
    "\n",
    "Have any comments on this Reading Journal? Feel free to leave them below and we'll read them when you submit your journal entry. This could include suggestions to improve the exercises, topics you'd like to see covered in class next time, or other feedback.\n",
    "\n",
    "If you have Python questions or run into problems while completing the reading, you should post them to Piazza instead so you can get a quick response before your journal is submitted."
   ]
  },
  {
   "cell_type": "markdown",
   "metadata": {},
   "source": [
    " "
   ]
  }
 ],
 "metadata": {
  "kernelspec": {
   "display_name": "Python 2",
   "language": "python",
   "name": "python2"
  },
  "language_info": {
   "codemirror_mode": {
    "name": "ipython",
    "version": 2
   },
   "file_extension": ".py",
   "mimetype": "text/x-python",
   "name": "python",
   "nbconvert_exporter": "python",
   "pygments_lexer": "ipython2",
   "version": "2.7.6"
  }
 },
 "nbformat": 4,
 "nbformat_minor": 0
}
