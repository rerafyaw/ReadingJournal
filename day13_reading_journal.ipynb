{
 "cells": [
  {
   "cell_type": "markdown",
   "metadata": {},
   "source": [
    "# Day 13 Reading Journal\n",
    "\n",
    "This journal includes review questions relating to Think Python Chapter 16.\n",
    "\n",
    "**Due: Thursday, October 20 at 12 noon**"
   ]
  },
  {
   "cell_type": "markdown",
   "metadata": {},
   "source": [
    "## Exercise 16-1.\n",
    "Write a function called `print_time` that takes a Time object and prints it in the form `hour:minute:second`.\n",
    "Hint: the format sequence `'%.2d'` prints an integer using at least two digits, including a leading zero if necessary."
   ]
  },
  {
   "cell_type": "code",
   "execution_count": 3,
   "metadata": {
    "collapsed": false
   },
   "outputs": [
    {
     "name": "stdout",
     "output_type": "stream",
     "text": [
      "11:11:11\n"
     ]
    }
   ],
   "source": [
    "class Time(object):\n",
    "    \"\"\"Represents the time of day.\n",
    "    attributes: hour, minute, second\n",
    "    \"\"\"\n",
    "\n",
    "# add your definition of print_time\n",
    "def print_time(time):\n",
    "    assert isinstance(time, Time)\n",
    "    print '%.2d:%.2d:%.2d' %  (time.hour,time.minute,time.sec)\n",
    "\n",
    "# add some code to demonstrate that print_time works\n",
    "if __name__ == '__main__':\n",
    "    t = Time()\n",
    "    t.hour = 11\n",
    "    t.minute = 11\n",
    "    t.sec = 11\n",
    "\n",
    "    print_time(t)"
   ]
  },
  {
   "cell_type": "markdown",
   "metadata": {},
   "source": []
  },
  {
   "cell_type": "markdown",
   "metadata": {},
   "source": [
    "## Exercise 16-2\n",
    "Write a boolean function called `is_after` that takes two Time objects, `t1` and `t2`, and returns `True` if `t1` follows `t2` chronologically and `False` otherwise.\n",
    "\n",
    "Challenge: don’t use an `if` statement."
   ]
  },
  {
   "cell_type": "code",
   "execution_count": 10,
   "metadata": {
    "collapsed": false
   },
   "outputs": [],
   "source": [
    "#requires secondary function to collapse time into nett seconds\n",
    "def seconds(t):\n",
    "    # assets if incoming time fns are instances of Time()\n",
    "    assert isinstance(t,Time)\n",
    "    return (((t.hour *60) + t.minute)* 60) + t.sec\n",
    "\n",
    "def is_after(t1, t2):\n",
    "    s1 = seconds(t1)\n",
    "    s2 = seconds(t2)\n",
    "    return s2 > s1\n"
   ]
  },
  {
   "cell_type": "markdown",
   "metadata": {},
   "source": [
    "## Modifiers\n",
    "Complete the code below, such that it demonstrates:\n",
    "\n",
    "* `increment` behaving as specified\n",
    "* `increment` with incorrect behavior"
   ]
  },
  {
   "cell_type": "code",
   "execution_count": 18,
   "metadata": {
    "collapsed": false
   },
   "outputs": [
    {
     "name": "stdout",
     "output_type": "stream",
     "text": [
      "11:11:45\n",
      "12:51:170\n"
     ]
    }
   ],
   "source": [
    "class Time(object):\n",
    "    \"\"\"Represents the time of day.\n",
    "    attributes: hour, minute, second\n",
    "    \"\"\"\n",
    "\n",
    "    def increment(time, seconds):\n",
    "        time.second += seconds\n",
    "        if time.second >= 60:\n",
    "            time.second -= 60\n",
    "            time.minute += 1\n",
    "        if time.minute >= 60:\n",
    "            time.minute -= 60\n",
    "            time.hour += 1\n",
    "    \n",
    "    # add your definition of print_time\n",
    "    def print_time(time):\n",
    "        assert isinstance(time, Time)\n",
    "        print '%.2d:%.2d:%.2d' %  (time.hour,time.minute,time.second)\n",
    "\n",
    "\n",
    "if __name__ is '__main__':\n",
    "    t1 = Time() # modify this line to create a new instance of Time\n",
    "    t1.hour = 11\n",
    "    t1.minute = 11\n",
    "    t1.second = 0\n",
    "\n",
    "    # modify this line to increment t1 by 45 seconds\n",
    "    t1.increment(45)\n",
    "    # modify this line to print the attributes of t1, to show that it has been correctly incremented\n",
    "    t1.print_time()\n",
    "\n",
    "    # modify this line to create another instance of Time\n",
    "    t2 = Time()\n",
    "    t2.hour = 12\n",
    "    t2.minute = 50\n",
    "    t2.second = 30\n",
    "    # modify this line to increment t2\n",
    "    t2.increment(200)\n",
    "    # modify this line to demonstrate that the previous call to increment behaved incorrectly\n",
    "    t2.print_time() # too large"
   ]
  },
  {
   "cell_type": "markdown",
   "metadata": {},
   "source": [
    "## Exercise 16-3 (adapted)\n",
    "Fix `increment`, and demonstrate that has the correct behavior in the case that was a problem above.\n",
    "\n",
    "Unlike the version of this question in Think Python, you are allowed (but not required) to use loops."
   ]
  },
  {
   "cell_type": "code",
   "execution_count": 21,
   "metadata": {
    "collapsed": false
   },
   "outputs": [
    {
     "name": "stdout",
     "output_type": "stream",
     "text": [
      "12:53:50\n"
     ]
    }
   ],
   "source": [
    "class Time(object):\n",
    "    \"\"\"Represents the time of day.\n",
    "    attributes: hour, minute, second\n",
    "    \"\"\"\n",
    "\n",
    "    def increment(time, seconds):\n",
    "        time.second += seconds\n",
    "        while time.second >= 60:\n",
    "            time.second -= 60\n",
    "            time.minute += 1\n",
    "        while time.minute >= 60:\n",
    "            time.minute -= 60\n",
    "            time.hour += 1\n",
    "   \n",
    "    def print_time(time):\n",
    "        assert isinstance(time, Time)\n",
    "        print '%.2d:%.2d:%.2d' %  (time.hour,time.minute,time.second)\n",
    "\n",
    "t2 = Time() # modify this line to create another instance of Time\n",
    "t2.hour = 12\n",
    "t2.minute = 50\n",
    "t2.second = 30\n",
    "# modify this line to increment t2 by the same value as in the previous question\n",
    "t2.increment(200)\n",
    "# modify this line to demonstrate that the previous call to increment behaved incorrectly\n",
    "t2.print_time()"
   ]
  },
  {
   "cell_type": "markdown",
   "metadata": {},
   "source": [
    "## PyGame Tutorial\n",
    "Add a link to the PyGame tutorial that you studied.\n",
    "\n",
    "Write a sentence (or more) that summarize the main points of the tutorial."
   ]
  },
  {
   "cell_type": "markdown",
   "metadata": {},
   "source": [
    "1st sample : a bouncing ball - http://www.pygame.org/docs/tut/intro/intro.html\n",
    "\\\\\n",
    "2nd sample : http://www.learningpython.com/2006/03/12/creating-a-game-in-python-using-pygame-part-one/\n",
    "\n",
    "First sample:\n",
    "Learn how to spawn relatively trivial graphics, and create a state change mechanism for updating the position of the graphics.\n",
    "\n",
    "Second sample:\n",
    "Full game development using non trivial graphics (tilemaps), classes to implement object development.\n"
   ]
  },
  {
   "cell_type": "markdown",
   "metadata": {},
   "source": [
    "# Quick poll\n",
    "About how long did you spend working on this Reading Journal?"
   ]
  },
  {
   "cell_type": "code",
   "execution_count": null,
   "metadata": {
    "collapsed": true
   },
   "outputs": [],
   "source": [
    "2 hours (1 hour spent reading tutorials)"
   ]
  },
  {
   "cell_type": "markdown",
   "metadata": {},
   "source": [
    " "
   ]
  }
 ],
 "metadata": {
  "anaconda-cloud": {},
  "kernelspec": {
   "display_name": "Python 2",
   "language": "python",
   "name": "python2"
  },
  "language_info": {
   "codemirror_mode": {
    "name": "ipython",
    "version": 2
   },
   "file_extension": ".py",
   "mimetype": "text/x-python",
   "name": "python",
   "nbconvert_exporter": "python",
   "pygments_lexer": "ipython2",
   "version": "2.7.6"
  }
 },
 "nbformat": 4,
 "nbformat_minor": 0
}
